{
  "nbformat": 4,
  "nbformat_minor": 0,
  "metadata": {
    "colab": {
      "name": "PyTorch_Tutorial.ipynb",
      "provenance": [],
      "collapsed_sections": [],
      "toc_visible": true,
      "authorship_tag": "ABX9TyMmiX0G4YSvsok6egi8abWW",
      "include_colab_link": true
    },
    "kernelspec": {
      "name": "python3",
      "display_name": "Python 3"
    },
    "accelerator": "GPU"
  },
  "cells": [
    {
      "cell_type": "markdown",
      "metadata": {
        "id": "view-in-github",
        "colab_type": "text"
      },
      "source": [
        "<a href=\"https://colab.research.google.com/github/wangjunxiao/PyTorch-Tutorial/blob/main/PyTorch_Tutorial.ipynb\" target=\"_parent\"><img src=\"https://colab.research.google.com/assets/colab-badge.svg\" alt=\"Open In Colab\"/></a>"
      ]
    },
    {
      "cell_type": "markdown",
      "metadata": {
        "id": "F86Do1_WZ0_z"
      },
      "source": [
        "# PyTorch Introduction\r\n",
        "##### This Tutorial is modified from [University of Washington CSE446](https://courses.cs.washington.edu/courses/cse446/19au/section9.html) and [PyTorch Official Tutorials](https://pytorch.org/tutorials/)\r\n",
        "Tutorial Video [PyTorch Tutorial Channel of Hung-yi Lee](https://www.youtube.com/watch?v=kQeezFrNoOg)"
      ]
    },
    {
      "cell_type": "code",
      "metadata": {
        "id": "8eFq6fx9jWUM"
      },
      "source": [
        "import torch\r\n",
        "import torch.nn as nn\r\n",
        "import torch.nn.functional as F\r\n",
        "\r\n",
        "from mpl_toolkits.mplot3d import Axes3D\r\n",
        "import matplotlib.pyplot as plt\r\n",
        "\r\n",
        "import numpy as np\r\n",
        "\r\n",
        "torch.manual_seed(446)\r\n",
        "np.random.seed(446)"
      ],
      "execution_count": null,
      "outputs": []
    },
    {
      "cell_type": "markdown",
      "metadata": {
        "id": "96qBCDfvj2bg"
      },
      "source": [
        "## Tensors and relation to numpy\r\n",
        "\r\n",
        "PyTorch's basic building block, the `tensor` is similar to numpy's `ndarray`"
      ]
    },
    {
      "cell_type": "code",
      "metadata": {
        "colab": {
          "base_uri": "https://localhost:8080/"
        },
        "id": "ijMx9GXGkCjb",
        "outputId": "7926444c-e349-437c-f56f-95acb77ff642"
      },
      "source": [
        "# we create tensors in a similar way to numpy nd arrays\r\n",
        "x_numpy = np.array([0.1, 0.2, 0.3])\r\n",
        "x_torch = torch.tensor([0.1, 0.2, 0.3])\r\n",
        "print('x_numpy, x_torch')\r\n",
        "print(x_numpy, x_torch)\r\n",
        "print()\r\n",
        "\r\n",
        "# to and from numpy, pytorch\r\n",
        "print('to and from numpy and pytorch')\r\n",
        "print(torch.from_numpy(x_numpy), x_torch.numpy())\r\n",
        "print()\r\n",
        "\r\n",
        "# we can do basic operations like +-*/\r\n",
        "y_numpy = np.array([3,4,5.])\r\n",
        "y_torch = torch.tensor([3,4,5.])\r\n",
        "print(\"x+y\")\r\n",
        "print(x_numpy + y_numpy, x_torch + y_torch)\r\n",
        "print()\r\n",
        "\r\n",
        "# many functions that are in numpy are also in pytorch\r\n",
        "print(\"norm\")\r\n",
        "print(np.linalg.norm(x_numpy), torch.norm(x_torch))\r\n",
        "print()\r\n",
        "\r\n",
        "# to apply an operation along a dimension,\r\n",
        "# we use the dim keyword argument instead of axis\r\n",
        "print(\"mean along the 0th dimension\")\r\n",
        "x_numpy = np.array([[1,2],[3,4.]])\r\n",
        "x_torch = torch.tensor([[1,2],[3,4.]])\r\n",
        "print(np.mean(x_numpy, axis=0), torch.mean(x_torch, dim=0))"
      ],
      "execution_count": null,
      "outputs": [
        {
          "output_type": "stream",
          "text": [
            "x_numpy, x_torch\n",
            "[0.1 0.2 0.3] tensor([0.1000, 0.2000, 0.3000])\n",
            "\n",
            "to and from numpy and pytorch\n",
            "tensor([0.1000, 0.2000, 0.3000], dtype=torch.float64) [0.1 0.2 0.3]\n",
            "\n",
            "x+y\n",
            "[3.1 4.2 5.3] tensor([3.1000, 4.2000, 5.3000])\n",
            "\n",
            "norm\n",
            "0.37416573867739417 tensor(0.3742)\n",
            "\n",
            "mean along the 0th dimension\n",
            "[2. 3.] tensor([2., 3.])\n"
          ],
          "name": "stdout"
        }
      ]
    },
    {
      "cell_type": "markdown",
      "metadata": {
        "id": "hg14TysKklp6"
      },
      "source": [
        "### `Tensor.view`\r\n",
        "We can use the `Tensor.view()` function to reshape tensors similarly to `numpy.reshape()`\r\n",
        "\r\n",
        "It can also automatically calculate the correct dimension if a `-1` is passed in. This is useful if we are working with batches, but the batch size is unknown."
      ]
    },
    {
      "cell_type": "code",
      "metadata": {
        "colab": {
          "base_uri": "https://localhost:8080/"
        },
        "id": "21MZFezDk8mq",
        "outputId": "56f968f9-41df-42b6-b1bd-7db2ba70444f"
      },
      "source": [
        "# \"MNIST\"\r\n",
        "N, C, W, H = 10000, 3, 28, 28\r\n",
        "X = torch.randn((N, C, W, H))\r\n",
        "\r\n",
        "print(X.shape)\r\n",
        "print(X.view(N, C, 784).shape)\r\n",
        "print(X.view(-1, C, 784).shape) # automatically choose the 0th dimension"
      ],
      "execution_count": null,
      "outputs": [
        {
          "output_type": "stream",
          "text": [
            "torch.Size([10000, 3, 28, 28])\n",
            "torch.Size([10000, 3, 784])\n",
            "torch.Size([10000, 3, 784])\n"
          ],
          "name": "stdout"
        }
      ]
    },
    {
      "cell_type": "markdown",
      "metadata": {
        "id": "gRluZU_toFm-"
      },
      "source": [
        "### `BROADCASTING SEMANTICS`\r\n",
        "Two tensors are “broadcastable” if the following rules hold:\r\n",
        "\r\n",
        "Each tensor has at least one dimension.\r\n",
        "\r\n",
        "When iterating over the dimension sizes, starting at the trailing dimension, the dimension sizes must either be equal, one of them is 1, or one of them does not exist."
      ]
    },
    {
      "cell_type": "code",
      "metadata": {
        "colab": {
          "base_uri": "https://localhost:8080/"
        },
        "id": "T8JzLh4JoKsM",
        "outputId": "7a944281-8834-41d7-e5fe-d57b5a376f4b"
      },
      "source": [
        "# PyTorch operations support NumPy Broadcasting Semantics.\r\n",
        "x=torch.empty(5,1,4,1)\r\n",
        "y=torch.empty(  3,1,1)\r\n",
        "print((x+y).size())"
      ],
      "execution_count": null,
      "outputs": [
        {
          "output_type": "stream",
          "text": [
            "torch.Size([5, 3, 4, 1])\n"
          ],
          "name": "stdout"
        }
      ]
    },
    {
      "cell_type": "markdown",
      "metadata": {
        "id": "zrh1ufRbshjD"
      },
      "source": [
        "## Computation graphs\r\n",
        "\r\n",
        "What's special about PyTorch's `tensor` object is that it implicitly creates a computation graph in the background. A computation graph is a a way of writing a mathematical expression as a graph. There is an algorithm to compute the gradients of all the variables of a computation graph in time on the same order it is to compute the function itself.\r\n",
        "\r\n",
        "Consider the expression $e=(a+b)*(b+1)$ with values $a=2, b=1$. We can draw the evaluated computation graph as\r\n",
        "<br>\r\n",
        "<br>\r\n",
        "\r\n",
        "In PyTorch, we can write this as"
      ]
    },
    {
      "cell_type": "markdown",
      "metadata": {
        "id": "qEJBy41auMvR"
      },
      "source": [
        "![tree-img](https://colah.github.io/posts/2015-08-Backprop/img/tree-eval.png)\r\n",
        "\r\n",
        "[source](https://colah.github.io/posts/2015-08-Backprop/)"
      ]
    },
    {
      "cell_type": "code",
      "metadata": {
        "colab": {
          "base_uri": "https://localhost:8080/"
        },
        "id": "Ea85KbAjub8z",
        "outputId": "c38fbcd6-3f02-4976-b72b-3f54b0c938bd"
      },
      "source": [
        "a = torch.tensor(2.0, requires_grad=True) # we set requires_grad=True to let PyTorch know to keep the graph\r\n",
        "b = torch.tensor(1.0, requires_grad=True)\r\n",
        "c = a + b\r\n",
        "d = b + 1\r\n",
        "e = c * d\r\n",
        "print('c', c)\r\n",
        "print('d', d)\r\n",
        "print('e', e)"
      ],
      "execution_count": null,
      "outputs": [
        {
          "output_type": "stream",
          "text": [
            "c tensor(3., grad_fn=<AddBackward0>)\n",
            "d tensor(2., grad_fn=<AddBackward0>)\n",
            "e tensor(6., grad_fn=<MulBackward0>)\n"
          ],
          "name": "stdout"
        }
      ]
    },
    {
      "cell_type": "markdown",
      "metadata": {
        "id": "2xpfGMVBuelo"
      },
      "source": [
        "We can see that PyTorch kept track of the computation graph for us."
      ]
    },
    {
      "cell_type": "markdown",
      "metadata": {
        "id": "v572PndTuhlj"
      },
      "source": [
        "## CUDA SEMANTICS\r\n",
        "It's easy cupy tensor from cpu to gpu or from g"
      ]
    },
    {
      "cell_type": "code",
      "metadata": {
        "colab": {
          "base_uri": "https://localhost:8080/"
        },
        "id": "QhzcQLbEuvBa",
        "outputId": "0690faae-2029-4426-d8a5-7bf98d48a361"
      },
      "source": [
        "cpu = torch.device(\"cpu\")\r\n",
        "gpu = torch.device(\"cuda\")\r\n",
        "\r\n",
        "x = torch.rand(10)\r\n",
        "print(x)\r\n",
        "x = x.to(gpu)\r\n",
        "print(x)\r\n",
        "x = x.to(cpu)\r\n",
        "print(x)"
      ],
      "execution_count": null,
      "outputs": [
        {
          "output_type": "stream",
          "text": [
            "tensor([0.3959, 0.6177, 0.7256, 0.0971, 0.9186, 0.8277, 0.4409, 0.9344, 0.8967,\n",
            "        0.1897])\n",
            "tensor([0.3959, 0.6177, 0.7256, 0.0971, 0.9186, 0.8277, 0.4409, 0.9344, 0.8967,\n",
            "        0.1897], device='cuda:0')\n",
            "tensor([0.3959, 0.6177, 0.7256, 0.0971, 0.9186, 0.8277, 0.4409, 0.9344, 0.8967,\n",
            "        0.1897])\n"
          ],
          "name": "stdout"
        }
      ]
    },
    {
      "cell_type": "markdown",
      "metadata": {
        "id": "EXM_KT7svLwe"
      },
      "source": [
        "## PyTorch as an auto grad framework\r\n",
        "\r\n",
        "Now that we have seen that PyTorch keeps the graph around for us, let's use it to compute some gradients for us.\r\n",
        "\r\n",
        "Consider the function $f(x) = (x-2)^2$.\r\n",
        "\r\n",
        "Q: Compute $\\frac{d}{dx} f(x)$ and then compute $f'(1)$.\r\n",
        "\r\n",
        "We make a `backward()` call on the leaf variable (`y`) in the computation, computing all the gradients of `y` at once."
      ]
    },
    {
      "cell_type": "code",
      "metadata": {
        "colab": {
          "base_uri": "https://localhost:8080/"
        },
        "id": "Y91t74ufvQ7l",
        "outputId": "5d17de49-bc06-48fe-9727-fc807ef552c8"
      },
      "source": [
        "def f(x):\r\n",
        "    return (x-2)**2\r\n",
        "\r\n",
        "def fp(x):\r\n",
        "    return 2*(x-2)\r\n",
        "\r\n",
        "x = torch.tensor([1.0], requires_grad=True)\r\n",
        "\r\n",
        "y = f(x)\r\n",
        "y.backward()\r\n",
        "\r\n",
        "print('Analytical f\\'(x):', fp(x))\r\n",
        "print('PyTorch\\'s f\\'(x):', x.grad)"
      ],
      "execution_count": null,
      "outputs": [
        {
          "output_type": "stream",
          "text": [
            "Analytical f'(x): tensor([-2.], grad_fn=<MulBackward0>)\n",
            "PyTorch's f'(x): tensor([-2.])\n"
          ],
          "name": "stdout"
        }
      ]
    },
    {
      "cell_type": "markdown",
      "metadata": {
        "id": "Kmq6FHvcvWFW"
      },
      "source": [
        "It can also find gradients of functions.\r\n",
        "\r\n",
        "Let $w = [w_1, w_2]^T$\r\n",
        "\r\n",
        "Consider $g(w) = 2w_1w_2 + w_2\\cos(w_1)$\r\n",
        "\r\n",
        "Q: Compute $\\nabla_w g(w)$ and verify $\\nabla_w g([\\pi,1]) = [2, \\pi - 1]^T$"
      ]
    },
    {
      "cell_type": "code",
      "metadata": {
        "colab": {
          "base_uri": "https://localhost:8080/"
        },
        "id": "SUVQ5LWDvXYU",
        "outputId": "119b3ed3-dc3b-4235-d24a-4ad1ea107427"
      },
      "source": [
        "def g(w):\r\n",
        "    return 2*w[0]*w[1] + w[1]*torch.cos(w[0])\r\n",
        "\r\n",
        "def grad_g(w):\r\n",
        "    return torch.tensor([2*w[1] - w[1]*torch.sin(w[0]), 2*w[0] + torch.cos(w[0])])\r\n",
        "\r\n",
        "w = torch.tensor([np.pi, 1], requires_grad=True)\r\n",
        "\r\n",
        "z = g(w)\r\n",
        "z.backward()\r\n",
        "\r\n",
        "print('Analytical grad g(w)', grad_g(w))\r\n",
        "print('PyTorch\\'s grad g(w)', w.grad)"
      ],
      "execution_count": null,
      "outputs": [
        {
          "output_type": "stream",
          "text": [
            "Analytical grad g(w) tensor([2.0000, 5.2832])\n",
            "PyTorch's grad g(w) tensor([2.0000, 5.2832])\n"
          ],
          "name": "stdout"
        }
      ]
    },
    {
      "cell_type": "markdown",
      "metadata": {
        "id": "GDJ_8-ELvyno"
      },
      "source": [
        "## Using the gradients\r\n",
        "Now that we have gradients, we can use our favorite optimization algorithm: gradient descent!\r\n",
        "\r\n",
        "Let $f$ the same function we defined above.\r\n",
        "\r\n",
        "Q: What is the value of $x$ that minimizes $f$?"
      ]
    },
    {
      "cell_type": "code",
      "metadata": {
        "colab": {
          "base_uri": "https://localhost:8080/"
        },
        "id": "eDaTurfBv7OL",
        "outputId": "f8bff311-a500-4be1-e392-b0a8f762d7c9"
      },
      "source": [
        "x = torch.tensor([5.0], requires_grad=True)\r\n",
        "step_size = 0.25\r\n",
        "\r\n",
        "print('iter,\\tx,\\tf(x),\\tf\\'(x),\\tf\\'(x) pytorch')\r\n",
        "for i in range(15):\r\n",
        "    y = f(x)\r\n",
        "    y.backward() # compute the gradient\r\n",
        "    \r\n",
        "    print('{},\\t{:.3f},\\t{:.3f},\\t{:.3f},\\t{:.3f}'.format(i, x.item(), f(x).item(), fp(x).item(), x.grad.item()))\r\n",
        "    \r\n",
        "    x.data = x.data - step_size * x.grad # perform a GD update step\r\n",
        "    \r\n",
        "    # We need to zero the grad variable since the backward()\r\n",
        "    # call accumulates the gradients in .grad instead of overwriting.\r\n",
        "    # The detach_() is for efficiency. You do not need to worry too much about it.\r\n",
        "    x.grad.detach_()\r\n",
        "    x.grad.zero_()"
      ],
      "execution_count": null,
      "outputs": [
        {
          "output_type": "stream",
          "text": [
            "iter,\tx,\tf(x),\tf'(x),\tf'(x) pytorch\n",
            "0,\t5.000,\t9.000,\t6.000,\t6.000\n",
            "1,\t3.500,\t2.250,\t3.000,\t3.000\n",
            "2,\t2.750,\t0.562,\t1.500,\t1.500\n",
            "3,\t2.375,\t0.141,\t0.750,\t0.750\n",
            "4,\t2.188,\t0.035,\t0.375,\t0.375\n",
            "5,\t2.094,\t0.009,\t0.188,\t0.188\n",
            "6,\t2.047,\t0.002,\t0.094,\t0.094\n",
            "7,\t2.023,\t0.001,\t0.047,\t0.047\n",
            "8,\t2.012,\t0.000,\t0.023,\t0.023\n",
            "9,\t2.006,\t0.000,\t0.012,\t0.012\n",
            "10,\t2.003,\t0.000,\t0.006,\t0.006\n",
            "11,\t2.001,\t0.000,\t0.003,\t0.003\n",
            "12,\t2.001,\t0.000,\t0.001,\t0.001\n",
            "13,\t2.000,\t0.000,\t0.001,\t0.001\n",
            "14,\t2.000,\t0.000,\t0.000,\t0.000\n"
          ],
          "name": "stdout"
        }
      ]
    },
    {
      "cell_type": "markdown",
      "metadata": {
        "id": "HzSSEh2Kt6L2"
      },
      "source": [
        "# Linear Regression\r\n",
        "\r\n",
        "Now, instead of minimizing a made-up function, lets minimize a loss function on some made-up data.\r\n",
        "\r\n",
        "We will implement Gradient Descent in order to solve the task of linear regression."
      ]
    },
    {
      "cell_type": "code",
      "metadata": {
        "colab": {
          "base_uri": "https://localhost:8080/"
        },
        "id": "0AO79sMGuJUe",
        "outputId": "8bc76161-9467-4f34-dcf1-85395d91df4a"
      },
      "source": [
        "# make a simple linear dataset with some noise\r\n",
        "\r\n",
        "d = 2\r\n",
        "n = 50\r\n",
        "X = torch.randn(n,d)\r\n",
        "true_w = torch.tensor([[-1.0], [2.0]])\r\n",
        "y = X @ true_w + torch.randn(n,1) * 0.1\r\n",
        "print('X shape', X.shape)\r\n",
        "print('y shape', y.shape)\r\n",
        "print('w shape', true_w.shape)"
      ],
      "execution_count": null,
      "outputs": [
        {
          "output_type": "stream",
          "text": [
            "X shape torch.Size([50, 2])\n",
            "y shape torch.Size([50, 1])\n",
            "w shape torch.Size([2, 1])\n"
          ],
          "name": "stdout"
        }
      ]
    },
    {
      "cell_type": "markdown",
      "metadata": {
        "id": "ltGalFhsuSi0"
      },
      "source": [
        "### Note: dimensions\r\n",
        "PyTorch does a lot of operations on batches of data. The convention is to have your data be of size $(N, d)$ where $N$ is the size of the batch of data."
      ]
    },
    {
      "cell_type": "markdown",
      "metadata": {
        "id": "jSKQKhOauZtb"
      },
      "source": [
        "### Sanity check\r\n",
        "To verify PyTorch is computing the gradients correctly, let's recall the gradient for the RSS objective:\r\n",
        "\r\n",
        "$$\\nabla_w \\mathcal{L}_{RSS}(w; X) = \\nabla_w\\frac{1}{n} ||y - Xw||_2^2 = -\\frac{2}{n}X^T(y-Xw)$$"
      ]
    },
    {
      "cell_type": "code",
      "metadata": {
        "colab": {
          "base_uri": "https://localhost:8080/"
        },
        "id": "_SXzqVbbub83",
        "outputId": "fbe5e2e5-38c6-4afa-e32c-c62fb3a2b59f"
      },
      "source": [
        "# define a linear model with no bias\r\n",
        "def model(X, w):\r\n",
        "    return X @ w\r\n",
        "\r\n",
        "# the residual sum of squares loss function\r\n",
        "def rss(y, y_hat):\r\n",
        "    return torch.norm(y - y_hat)**2 / n\r\n",
        "\r\n",
        "# analytical expression for the gradient\r\n",
        "def grad_rss(X, y, w):\r\n",
        "    return -2*X.t() @ (y - X @ w) / n\r\n",
        "\r\n",
        "w = torch.tensor([[1.], [0]], requires_grad=True)\r\n",
        "y_hat = model(X, w)\r\n",
        "\r\n",
        "loss = rss(y, y_hat)\r\n",
        "loss.backward()\r\n",
        "\r\n",
        "print('Analytical gradient', grad_rss(X, y, w).detach().view(2).numpy())\r\n",
        "print('PyTorch\\'s gradient', w.grad.view(2).numpy())"
      ],
      "execution_count": null,
      "outputs": [
        {
          "output_type": "stream",
          "text": [
            "Analytical gradient [ 4.342543  -3.5023162]\n",
            "PyTorch's gradient [ 4.342543 -3.502316]\n"
          ],
          "name": "stdout"
        }
      ]
    },
    {
      "cell_type": "markdown",
      "metadata": {
        "id": "I1X5dln2uhNA"
      },
      "source": [
        "Now that we've seen PyTorch is doing the right think, let's use the gradients!\r\n",
        "\r\n",
        "## Linear regression using GD with automatically computed derivatives\r\n",
        "\r\n",
        "We will now use the gradients to run the gradient descent algorithm.\r\n",
        "\r\n",
        "Note: This example is an illustration to connect ideas we have seen before to PyTorch's way of doing things. We will see how to do this in the \"PyTorchic\" way in the next example."
      ]
    },
    {
      "cell_type": "code",
      "metadata": {
        "colab": {
          "base_uri": "https://localhost:8080/"
        },
        "id": "JoloSqGOuu_V",
        "outputId": "b3138740-612c-454f-8e9d-9c9dd44a50c6"
      },
      "source": [
        "step_size = 0.1\r\n",
        "\r\n",
        "print('iter,\\tloss,\\tw')\r\n",
        "for i in range(20):\r\n",
        "    y_hat = model(X, w)\r\n",
        "    loss = rss(y, y_hat)\r\n",
        "    \r\n",
        "    loss.backward() # compute the gradient of the loss\r\n",
        "    \r\n",
        "    w.data = w.data - step_size * w.grad # do a gradient descent step\r\n",
        "    \r\n",
        "    print('{},\\t{:.2f},\\t{}'.format(i, loss.item(), w.view(2).detach().numpy()))\r\n",
        "    \r\n",
        "    # We need to zero the grad variable since the backward()\r\n",
        "    # call accumulates the gradients in .grad instead of overwriting.\r\n",
        "    # The detach_() is for efficiency. You do not need to worry too much about it.\r\n",
        "    w.grad.detach()\r\n",
        "    w.grad.zero_()\r\n",
        "\r\n",
        "print('\\ntrue w\\t\\t', true_w.view(2).numpy())\r\n",
        "print('estimated w\\t', w.view(2).detach().numpy())"
      ],
      "execution_count": null,
      "outputs": [
        {
          "output_type": "stream",
          "text": [
            "iter,\tloss,\tw\n",
            "0,\t7.82,\t[0.13149136 0.70046324]\n",
            "1,\t2.84,\t[-0.11822014  0.9229876 ]\n",
            "2,\t1.84,\t[-0.31444427  1.1054724 ]\n",
            "3,\t1.19,\t[-0.4684834  1.2552956]\n",
            "4,\t0.77,\t[-0.58927345  1.3784461 ]\n",
            "5,\t0.50,\t[-0.68387645  1.4797904 ]\n",
            "6,\t0.33,\t[-0.75787055  1.563287  ]\n",
            "7,\t0.22,\t[-0.8156596  1.632159 ]\n",
            "8,\t0.15,\t[-0.86071837  1.6890337 ]\n",
            "9,\t0.10,\t[-0.89578694  1.736055  ]\n",
            "10,\t0.07,\t[-0.9230244  1.7749742]\n",
            "11,\t0.05,\t[-0.94413096  1.8072236 ]\n",
            "12,\t0.03,\t[-0.9604442  1.8339758]\n",
            "13,\t0.02,\t[-0.9730157  1.8561921]\n",
            "14,\t0.02,\t[-0.9826713  1.8746614]\n",
            "15,\t0.01,\t[-0.99005884  1.8900318 ]\n",
            "16,\t0.01,\t[-0.99568594  1.9028363 ]\n",
            "17,\t0.01,\t[-0.99994993  1.913514  ]\n",
            "18,\t0.01,\t[-1.0031612  1.9224268]\n",
            "19,\t0.01,\t[-1.0055621  1.9298735]\n",
            "\n",
            "true w\t\t [-1.  2.]\n",
            "estimated w\t [-1.0055621  1.9298735]\n"
          ],
          "name": "stdout"
        }
      ]
    },
    {
      "cell_type": "markdown",
      "metadata": {
        "id": "iOtQFIy3u1LZ"
      },
      "source": [
        "## torch.nn.Module\r\n",
        "\r\n",
        "`Module` is PyTorch's way of performing operations on tensors. Modules are implemented as subclasses of the `torch.nn.Module` class. All modules are callable and can be composed together to create complex functions.\r\n",
        "\r\n",
        "[`torch.nn` docs](https://pytorch.org/docs/stable/nn.html)\r\n",
        "\r\n",
        "Note: most of the functionality implemented for modules can be accessed in a functional form via `torch.nn.functional`, but these require you to create and manage the weight tensors yourself.\r\n",
        "\r\n",
        "[`torch.nn.functional` docs](https://pytorch.org/docs/stable/nn.html#torch-nn-functional)."
      ]
    },
    {
      "cell_type": "markdown",
      "metadata": {
        "id": "8yqRK0h4u5kA"
      },
      "source": [
        "### Linear Module\r\n",
        "The bread and butter of modules is the Linear module which does a linear transformation with a bias. It takes the input and output dimensions as parameters, and creates the weights in the object.\r\n",
        "\r\n",
        "Unlike how we initialized our $w$ manually, the Linear module automatically initializes the weights randomly. For minimizing non convex loss functions (e.g. training neural networks), initialization is important and can affect results. If training isn't working as well as expected, one thing to try is manually initializing the weights to something different from the default. PyTorch implements some common initializations in `torch.nn.init`.\r\n",
        "\r\n",
        "[`torch.nn.init` docs](https://pytorch.org/docs/stable/nn.html#torch-nn-init)"
      ]
    },
    {
      "cell_type": "code",
      "metadata": {
        "colab": {
          "base_uri": "https://localhost:8080/"
        },
        "id": "Ge2AYW5iu_8E",
        "outputId": "dfd4deea-6f92-4b03-9f3d-764e5af53aab"
      },
      "source": [
        "d_in = 3\r\n",
        "d_out = 4\r\n",
        "linear_module = nn.Linear(d_in, d_out)\r\n",
        "\r\n",
        "example_tensor = torch.tensor([[1.,2,3], [4,5,6]])\r\n",
        "# applys a linear transformation to the data\r\n",
        "transformed = linear_module(example_tensor)\r\n",
        "print('example_tensor', example_tensor.shape)\r\n",
        "print('transormed', transformed.shape)\r\n",
        "print()\r\n",
        "print('We can see that the weights exist in the background\\n')\r\n",
        "print('W:', linear_module.weight)\r\n",
        "print('b:', linear_module.bias)"
      ],
      "execution_count": null,
      "outputs": [
        {
          "output_type": "stream",
          "text": [
            "example_tensor torch.Size([2, 3])\n",
            "transormed torch.Size([2, 4])\n",
            "\n",
            "We can see that the weights exist in the background\n",
            "\n",
            "W: Parameter containing:\n",
            "tensor([[ 0.5260,  0.4925, -0.0887],\n",
            "        [ 0.3944,  0.4080,  0.2182],\n",
            "        [-0.1409,  0.0518,  0.3034],\n",
            "        [ 0.0913,  0.2452, -0.2616]], requires_grad=True)\n",
            "b: Parameter containing:\n",
            "tensor([0.5021, 0.0118, 0.1383, 0.4757], requires_grad=True)\n"
          ],
          "name": "stdout"
        }
      ]
    },
    {
      "cell_type": "markdown",
      "metadata": {
        "id": "rtONRcFQv2ZZ"
      },
      "source": [
        "### Activation functions\r\n",
        "PyTorch implements a number of activation functions including but not limited to `ReLU`, `Tanh`, and `Sigmoid`. Since they are modules, they need to be instantiated."
      ]
    },
    {
      "cell_type": "code",
      "metadata": {
        "colab": {
          "base_uri": "https://localhost:8080/"
        },
        "id": "cC5Esvemv5Z1",
        "outputId": "697ce89c-f51c-4a96-c153-051fd91ac04b"
      },
      "source": [
        "activation_fn = nn.ReLU() # we instantiate an instance of the ReLU module\r\n",
        "example_tensor = torch.tensor([-1.0, 1.0, 0.0])\r\n",
        "activated = activation_fn(example_tensor)\r\n",
        "print('example_tensor', example_tensor)\r\n",
        "print('activated', activated)"
      ],
      "execution_count": null,
      "outputs": [
        {
          "output_type": "stream",
          "text": [
            "example_tensor tensor([-1.,  1.,  0.])\n",
            "activated tensor([0., 1., 0.])\n"
          ],
          "name": "stdout"
        }
      ]
    },
    {
      "cell_type": "markdown",
      "metadata": {
        "id": "BwS-n5XUwCGc"
      },
      "source": [
        "### Sequential\r\n",
        "\r\n",
        "Many times, we want to compose Modules together. `torch.nn.Sequential` provides a good interface for composing simple modules."
      ]
    },
    {
      "cell_type": "code",
      "metadata": {
        "colab": {
          "base_uri": "https://localhost:8080/"
        },
        "id": "wVijsB9XwFaZ",
        "outputId": "8be23e0e-fe1c-41ab-d79e-5bc44184309d"
      },
      "source": [
        "d_in = 3\r\n",
        "d_hidden = 4\r\n",
        "d_out = 1\r\n",
        "model = torch.nn.Sequential(\r\n",
        "                            nn.Linear(d_in, d_hidden),\r\n",
        "                            nn.Tanh(),\r\n",
        "                            nn.Linear(d_hidden, d_out),\r\n",
        "                            nn.Sigmoid()\r\n",
        "                           )\r\n",
        "\r\n",
        "example_tensor = torch.tensor([[1.,2,3],[4,5,6]])\r\n",
        "transformed = model(example_tensor)\r\n",
        "print('transformed', transformed.shape)"
      ],
      "execution_count": null,
      "outputs": [
        {
          "output_type": "stream",
          "text": [
            "transformed torch.Size([2, 1])\n"
          ],
          "name": "stdout"
        }
      ]
    },
    {
      "cell_type": "markdown",
      "metadata": {
        "id": "Fbzmb7vLwKNg"
      },
      "source": [
        "Note: we can access *all* of the parameters (of any `nn.Module`) with the `parameters()` method. "
      ]
    },
    {
      "cell_type": "code",
      "metadata": {
        "colab": {
          "base_uri": "https://localhost:8080/"
        },
        "id": "fQF2yt8CwMC_",
        "outputId": "cba2012c-9966-4811-86f4-e05a55b8d34c"
      },
      "source": [
        "params = model.parameters()\r\n",
        "\r\n",
        "for param in params:\r\n",
        "    print(param)"
      ],
      "execution_count": null,
      "outputs": [
        {
          "output_type": "stream",
          "text": [
            "Parameter containing:\n",
            "tensor([[-0.3128,  0.2707, -0.3952],\n",
            "        [ 0.1285,  0.1777, -0.4675],\n",
            "        [ 0.0452, -0.5630, -0.1999],\n",
            "        [ 0.5431,  0.0524,  0.1126]], requires_grad=True)\n",
            "Parameter containing:\n",
            "tensor([ 0.2683, -0.2361,  0.2769, -0.1380], requires_grad=True)\n",
            "Parameter containing:\n",
            "tensor([[ 0.4902, -0.0928, -0.2907,  0.0734]], requires_grad=True)\n",
            "Parameter containing:\n",
            "tensor([-0.0394], requires_grad=True)\n"
          ],
          "name": "stdout"
        }
      ]
    },
    {
      "cell_type": "markdown",
      "metadata": {
        "id": "UL1ZQlD1wW1m"
      },
      "source": [
        "### Loss functions\r\n",
        "PyTorch implements many common loss functions including `MSELoss` and `CrossEntropyLoss`."
      ]
    },
    {
      "cell_type": "code",
      "metadata": {
        "colab": {
          "base_uri": "https://localhost:8080/"
        },
        "id": "_nwlGtvRwas0",
        "outputId": "5473762a-4549-46c8-fe54-d37704e7deea"
      },
      "source": [
        "mse_loss_fn = nn.MSELoss()\r\n",
        "\r\n",
        "input = torch.tensor([[0., 0, 0]])\r\n",
        "target = torch.tensor([[1., 0, -1]])\r\n",
        "\r\n",
        "loss = mse_loss_fn(input, target)\r\n",
        "\r\n",
        "print(loss)"
      ],
      "execution_count": null,
      "outputs": [
        {
          "output_type": "stream",
          "text": [
            "tensor(0.6667)\n"
          ],
          "name": "stdout"
        }
      ]
    },
    {
      "cell_type": "markdown",
      "metadata": {
        "id": "irZqKc7vweF0"
      },
      "source": [
        "## torch.optim\r\n",
        "PyTorch implements a number of gradient-based optimization methods in `torch.optim`, including Gradient Descent. At the minimum, it takes in the model parameters and a learning rate.\r\n",
        "\r\n",
        "Optimizers do not compute the gradients for you, so you must call `backward()` yourself. You also must call the `optim.zero_grad()` function before calling `backward()` since by default PyTorch does and inplace add to the `.grad` member variable rather than overwriting it.\r\n",
        "\r\n",
        "This does both the `detach_()` and `zero_()` calls on all tensor's `grad` variables.\r\n",
        "\r\n",
        "[`torch.optim` docs](https://pytorch.org/docs/stable/optim.html)"
      ]
    },
    {
      "cell_type": "code",
      "metadata": {
        "colab": {
          "base_uri": "https://localhost:8080/"
        },
        "id": "nPuLETRxwiZz",
        "outputId": "f7dcd5c0-e495-4de4-8dcc-f5bb4b00578a"
      },
      "source": [
        "# create a simple model\r\n",
        "model = nn.Linear(1, 1)\r\n",
        "\r\n",
        "# create a simple dataset\r\n",
        "X_simple = torch.tensor([[1.]])\r\n",
        "y_simple = torch.tensor([[2.]])\r\n",
        "\r\n",
        "# create our optimizer\r\n",
        "optim = torch.optim.SGD(model.parameters(), lr=1e-2)\r\n",
        "mse_loss_fn = nn.MSELoss()\r\n",
        "\r\n",
        "y_hat = model(X_simple)\r\n",
        "print('model params before:', model.weight)\r\n",
        "loss = mse_loss_fn(y_hat, y_simple)\r\n",
        "optim.zero_grad()\r\n",
        "loss.backward()\r\n",
        "optim.step()\r\n",
        "print('model params after:', model.weight)"
      ],
      "execution_count": null,
      "outputs": [
        {
          "output_type": "stream",
          "text": [
            "model params before: Parameter containing:\n",
            "tensor([[-0.5487]], requires_grad=True)\n",
            "model params after: Parameter containing:\n",
            "tensor([[-0.5041]], requires_grad=True)\n"
          ],
          "name": "stdout"
        }
      ]
    },
    {
      "cell_type": "markdown",
      "metadata": {
        "id": "C0IxiOdmwnND"
      },
      "source": [
        "As we can see, the parameter was updated in the correct direction"
      ]
    },
    {
      "cell_type": "markdown",
      "metadata": {
        "id": "pF--n92zwxa7"
      },
      "source": [
        "## Linear regression using GD with automatically computed derivatives and PyTorch's Modules\r\n",
        "\r\n",
        "Now let's combine what we've learned to solve linear regression in a \"PyTorchic\" way."
      ]
    },
    {
      "cell_type": "code",
      "metadata": {
        "colab": {
          "base_uri": "https://localhost:8080/"
        },
        "id": "lRrf7UjTw0J5",
        "outputId": "22631225-f759-4704-9d7b-523bf6ff8dfa"
      },
      "source": [
        "step_size = 0.1\r\n",
        "\r\n",
        "linear_module = nn.Linear(d, 1, bias=False)\r\n",
        "\r\n",
        "loss_func = nn.MSELoss()\r\n",
        "\r\n",
        "optim = torch.optim.SGD(linear_module.parameters(), lr=step_size)\r\n",
        "\r\n",
        "print('iter,\\tloss,\\tw')\r\n",
        "\r\n",
        "for i in range(20):\r\n",
        "    y_hat = linear_module(X)\r\n",
        "    loss = loss_func(y_hat, y)\r\n",
        "    optim.zero_grad()\r\n",
        "    loss.backward()\r\n",
        "    optim.step()\r\n",
        "    \r\n",
        "    print('{},\\t{:.2f},\\t{}'.format(i, loss.item(), linear_module.weight.view(2).detach().numpy()))\r\n",
        "\r\n",
        "print('\\ntrue w\\t\\t', true_w.view(2).numpy())\r\n",
        "print('estimated w\\t', linear_module.weight.view(2).detach().numpy())"
      ],
      "execution_count": null,
      "outputs": [
        {
          "output_type": "stream",
          "text": [
            "iter,\tloss,\tw\n",
            "0,\t2.29,\t[-0.3859704  0.8518376]\n",
            "1,\t1.51,\t[-0.53111917  1.0400821 ]\n",
            "2,\t1.00,\t[-0.6439842  1.1957945]\n",
            "3,\t0.67,\t[-0.73155683  1.3247426 ]\n",
            "4,\t0.45,\t[-0.7993402  1.4316461]\n",
            "5,\t0.30,\t[-0.85166246  1.5203714 ]\n",
            "6,\t0.20,\t[-0.8919245  1.5940894]\n",
            "7,\t0.14,\t[-0.9227959  1.6554034]\n",
            "8,\t0.10,\t[-0.9463698  1.7064534]\n",
            "9,\t0.07,\t[-0.9642856  1.749001 ]\n",
            "10,\t0.05,\t[-0.97782534  1.7844973 ]\n",
            "11,\t0.04,\t[-0.98799014  1.8141392 ]\n",
            "12,\t0.03,\t[-0.99556065  1.8389157 ]\n",
            "13,\t0.02,\t[-1.0011443  1.859644 ]\n",
            "14,\t0.02,\t[-1.0052128  1.8770008]\n",
            "15,\t0.01,\t[-1.0081316  1.8915467]\n",
            "16,\t0.01,\t[-1.0101832  1.9037468]\n",
            "17,\t0.01,\t[-1.0115852  1.9139876]\n",
            "18,\t0.01,\t[-1.0125047  1.9225901]\n",
            "19,\t0.01,\t[-1.0130696  1.9298217]\n",
            "\n",
            "true w\t\t [-1.  2.]\n",
            "estimated w\t [-1.0130696  1.9298217]\n"
          ],
          "name": "stdout"
        }
      ]
    },
    {
      "cell_type": "markdown",
      "metadata": {
        "id": "d7JsTw-5w4eP"
      },
      "source": [
        "## Linear regression using SGD \r\n",
        "In the previous examples, we computed the average gradient over the entire dataset (Gradient Descent). We can implement Stochastic Gradient Descent with a simple modification."
      ]
    },
    {
      "cell_type": "code",
      "metadata": {
        "colab": {
          "base_uri": "https://localhost:8080/"
        },
        "id": "Hy6bCxVOw6kt",
        "outputId": "789630f7-c4f1-4f6d-ae18-14a1c7a0abab"
      },
      "source": [
        "step_size = 0.01\r\n",
        "\r\n",
        "linear_module = nn.Linear(d, 1)\r\n",
        "loss_func = nn.MSELoss()\r\n",
        "optim = torch.optim.SGD(linear_module.parameters(), lr=step_size)\r\n",
        "print('iter,\\tloss,\\tw')\r\n",
        "for i in range(200):\r\n",
        "    rand_idx = np.random.choice(n) # take a random point from the dataset\r\n",
        "    x = X[rand_idx] \r\n",
        "    y_hat = linear_module(x)\r\n",
        "    loss = loss_func(y_hat, y[rand_idx]) # only compute the loss on the single point\r\n",
        "    optim.zero_grad()\r\n",
        "    loss.backward()\r\n",
        "    optim.step()\r\n",
        "    \r\n",
        "    if i % 20 == 0:\r\n",
        "        print('{},\\t{:.2f},\\t{}'.format(i, loss.item(), linear_module.weight.view(2).detach().numpy()))\r\n",
        "\r\n",
        "print('\\ntrue w\\t\\t', true_w.view(2).numpy())\r\n",
        "print('estimated w\\t', linear_module.weight.view(2).detach().numpy())"
      ],
      "execution_count": null,
      "outputs": [
        {
          "output_type": "stream",
          "text": [
            "iter,\tloss,\tw\n",
            "0,\t1.65,\t[0.5743579 0.42951  ]\n",
            "20,\t0.34,\t[0.09791921 0.61812305]\n",
            "40,\t0.77,\t[-0.12659666  0.9623728 ]\n",
            "60,\t0.54,\t[-0.35293424  1.3701379 ]\n",
            "80,\t0.19,\t[-0.542525   1.5289117]\n",
            "100,\t0.48,\t[-0.6765383  1.6920214]\n",
            "120,\t0.11,\t[-0.7933236  1.8108759]\n",
            "140,\t0.01,\t[-0.85540015  1.8868232 ]\n",
            "160,\t0.01,\t[-0.917086   1.9103304]\n",
            "180,\t0.01,\t[-0.9536688  1.9182668]\n",
            "\n",
            "true w\t\t [-1.  2.]\n",
            "estimated w\t [-0.9596093  1.9431977]\n"
          ],
          "name": "stdout"
        }
      ]
    },
    {
      "cell_type": "markdown",
      "metadata": {
        "id": "Ri0UQAGixATB"
      },
      "source": [
        "# Neural Network Basics in PyTorch\r\n",
        "We will try and fit a simple neural network to the data."
      ]
    },
    {
      "cell_type": "code",
      "metadata": {
        "colab": {
          "base_uri": "https://localhost:8080/",
          "height": 297
        },
        "id": "4gMannRMxCXG",
        "outputId": "6acc2a66-39ce-457b-a11c-aa01aac52936"
      },
      "source": [
        "%matplotlib inline\r\n",
        "\r\n",
        "d = 1\r\n",
        "n = 200\r\n",
        "X = torch.rand(n,d)\r\n",
        "y = 4 * torch.sin(np.pi * X) * torch.cos(6*np.pi*X**2)\r\n",
        "\r\n",
        "plt.scatter(X.numpy(), y.numpy())\r\n",
        "plt.title('plot of $f(x)$')\r\n",
        "plt.xlabel('$x$')\r\n",
        "plt.ylabel('$y$')\r\n",
        "\r\n",
        "plt.show()"
      ],
      "execution_count": null,
      "outputs": [
        {
          "output_type": "display_data",
          "data": {
            "image/png": "[encoded data removed]",
            "text/plain": [
              "<Figure size 432x288 with 1 Axes>"
            ]
          },
          "metadata": {
            "tags": [],
            "needs_background": "light"
          }
        }
      ]
    },
    {
      "cell_type": "markdown",
      "metadata": {
        "id": "Qz1q2o-NxGN2"
      },
      "source": [
        "Here we define a simple two hidden layer neural network with Tanh activations. There are a few hyper parameters to play with to get a feel for how they change the results."
      ]
    },
    {
      "cell_type": "code",
      "metadata": {
        "colab": {
          "base_uri": "https://localhost:8080/"
        },
        "id": "ACd0fVwdxIC2",
        "outputId": "e66995d6-bcc1-4d6b-c720-eb487c5695bb"
      },
      "source": [
        "# feel free to play with these parameters\r\n",
        "\r\n",
        "step_size = 0.05\r\n",
        "n_epochs = 6000\r\n",
        "n_hidden_1 = 32\r\n",
        "n_hidden_2 = 32\r\n",
        "d_out = 1\r\n",
        "\r\n",
        "neural_network = nn.Sequential(\r\n",
        "                            nn.Linear(d, n_hidden_1), \r\n",
        "                            nn.Tanh(),\r\n",
        "                            nn.Linear(n_hidden_1, n_hidden_2),\r\n",
        "                            nn.Tanh(),\r\n",
        "                            nn.Linear(n_hidden_2, d_out)\r\n",
        "                            )\r\n",
        "\r\n",
        "loss_func = nn.MSELoss()\r\n",
        "\r\n",
        "optim = torch.optim.SGD(neural_network.parameters(), lr=step_size)\r\n",
        "print('iter,\\tloss')\r\n",
        "for i in range(n_epochs):\r\n",
        "    y_hat = neural_network(X)\r\n",
        "    loss = loss_func(y_hat, y)\r\n",
        "    optim.zero_grad()\r\n",
        "    loss.backward()\r\n",
        "    optim.step()\r\n",
        "    \r\n",
        "    if i % (n_epochs // 10) == 0:\r\n",
        "        print('{},\\t{:.2f}'.format(i, loss.item()))"
      ],
      "execution_count": null,
      "outputs": [
        {
          "output_type": "stream",
          "text": [
            "iter,\tloss\n",
            "0,\t3.92\n",
            "600,\t3.77\n",
            "1200,\t2.76\n",
            "1800,\t1.07\n",
            "2400,\t0.91\n",
            "3000,\t0.72\n",
            "3600,\t0.45\n",
            "4200,\t0.13\n",
            "4800,\t0.10\n",
            "5400,\t0.09\n"
          ],
          "name": "stdout"
        }
      ]
    },
    {
      "cell_type": "code",
      "metadata": {
        "colab": {
          "base_uri": "https://localhost:8080/",
          "height": 302
        },
        "id": "iz-zJw2exTgu",
        "outputId": "037c06df-3b52-4592-fa58-d3b320efd20f"
      },
      "source": [
        "X_grid = torch.from_numpy(np.linspace(0,1,50)).float().view(-1, d)\r\n",
        "y_hat = neural_network(X_grid)\r\n",
        "plt.scatter(X.numpy(), y.numpy())\r\n",
        "plt.plot(X_grid.detach().numpy(), y_hat.detach().numpy(), 'r')\r\n",
        "plt.title('plot of $f(x)$ and $\\hat{f}(x)$')\r\n",
        "plt.xlabel('$x$')\r\n",
        "plt.ylabel('$y$')\r\n",
        "plt.show()"
      ],
      "execution_count": null,
      "outputs": [
        {
          "output_type": "display_data",
          "data": {
            "image/png": "[encoded data removed]",
            "text/plain": [
              "<Figure size 432x288 with 1 Axes>"
            ]
          },
          "metadata": {
            "tags": [],
            "needs_background": "light"
          }
        }
      ]
    },
    {
      "cell_type": "markdown",
      "metadata": {
        "id": "eGrRgnFuxXxh"
      },
      "source": [
        "# Things that might help on the homework\r\n",
        "\r\n",
        "## Brief Sidenote: Momentum\r\n",
        "\r\n",
        "There are other optimization algorithms besides stochastic gradient descent. One is a modification of SGD called momentum. We won't get into it here, but if you would like to read more [here](https://distill.pub/2017/momentum/) is a good place to start.\r\n",
        "\r\n",
        "We only change the step size and add the momentum keyword argument to the optimizer. Notice how it reduces the training loss in fewer iterations."
      ]
    },
    {
      "cell_type": "code",
      "metadata": {
        "colab": {
          "base_uri": "https://localhost:8080/"
        },
        "id": "LujptKorxaPz",
        "outputId": "2710fe93-ff24-4d97-caa7-91481a86e748"
      },
      "source": [
        "# feel free to play with these parameters\r\n",
        "\r\n",
        "step_size = 0.05\r\n",
        "momentum = 0.9\r\n",
        "n_epochs = 1500\r\n",
        "n_hidden_1 = 32\r\n",
        "n_hidden_2 = 32\r\n",
        "d_out = 1\r\n",
        "\r\n",
        "neural_network = nn.Sequential(\r\n",
        "                            nn.Linear(d, n_hidden_1), \r\n",
        "                            nn.Tanh(),\r\n",
        "                            nn.Linear(n_hidden_1, n_hidden_2),\r\n",
        "                            nn.Tanh(),\r\n",
        "                            nn.Linear(n_hidden_2, d_out)\r\n",
        "                            )\r\n",
        "\r\n",
        "loss_func = nn.MSELoss()\r\n",
        "\r\n",
        "optim = torch.optim.SGD(neural_network.parameters(), lr=step_size, momentum=momentum)\r\n",
        "print('iter,\\tloss')\r\n",
        "for i in range(n_epochs):\r\n",
        "    y_hat = neural_network(X)\r\n",
        "    loss = loss_func(y_hat, y)\r\n",
        "    optim.zero_grad()\r\n",
        "    loss.backward()\r\n",
        "    optim.step()\r\n",
        "    \r\n",
        "    if i % (n_epochs // 10) == 0:\r\n",
        "        print('{},\\t{:.2f}'.format(i, loss.item()))"
      ],
      "execution_count": null,
      "outputs": [
        {
          "output_type": "stream",
          "text": [
            "iter,\tloss\n",
            "0,\t4.06\n",
            "150,\t3.52\n",
            "300,\t0.88\n",
            "450,\t0.17\n",
            "600,\t0.05\n",
            "750,\t0.04\n",
            "900,\t0.01\n",
            "1050,\t0.00\n",
            "1200,\t0.00\n",
            "1350,\t0.00\n"
          ],
          "name": "stdout"
        }
      ]
    },
    {
      "cell_type": "code",
      "metadata": {
        "colab": {
          "base_uri": "https://localhost:8080/",
          "height": 302
        },
        "id": "RvozspZ6xe4L",
        "outputId": "1b3f9691-3a61-4344-9397-61e0f7b00222"
      },
      "source": [
        "X_grid = torch.from_numpy(np.linspace(0,1,50)).float().view(-1, d)\r\n",
        "y_hat = neural_network(X_grid)\r\n",
        "plt.scatter(X.numpy(), y.numpy())\r\n",
        "plt.plot(X_grid.detach().numpy(), y_hat.detach().numpy(), 'r')\r\n",
        "plt.title('plot of $f(x)$ and $\\hat{f}(x)$')\r\n",
        "plt.xlabel('$x$')\r\n",
        "plt.ylabel('$y$')\r\n",
        "plt.show()"
      ],
      "execution_count": null,
      "outputs": [
        {
          "output_type": "display_data",
          "data": {
            "image/png": "[encoded data removed]",
            "text/plain": [
              "<Figure size 432x288 with 1 Axes>"
            ]
          },
          "metadata": {
            "tags": [],
            "needs_background": "light"
          }
        }
      ]
    },
    {
      "cell_type": "markdown",
      "metadata": {
        "id": "NCG-hTQrxorS"
      },
      "source": [
        "## CrossEntropyLoss\r\n",
        "So far, we have been considering regression tasks and have used the [MSELoss](https://pytorch.org/docs/stable/nn.html#torch.nn.MSELoss) module. For the homework, we will be performing a classification task and will use the cross entropy loss.\r\n",
        "\r\n",
        "PyTorch implements a version of the cross entropy loss in one module called [CrossEntropyLoss](https://pytorch.org/docs/stable/nn.html#torch.nn.CrossEntropyLoss). Its usage is slightly different than MSE, so we will break it down here. \r\n",
        "\r\n",
        "- input: The first parameter to CrossEntropyLoss is the output of our network. It expects a *real valued* tensor of dimensions $(N,C)$ where $N$ is the minibatch size and $C$ is the number of classes. In our case $N=3$ and $C=2$. The values along the second dimension correspond to raw unnormalized scores for each class. The CrossEntropyLoss module does the softmax calculation for us, so we do not need to apply our own softmax to the output of our neural network.\r\n",
        "- output: The second parameter to CrossEntropyLoss is the true label. It expects an *integer valued* tensor of dimension $(N)$. The integer at each element corresponds to the correct class. In our case, the \"correct\" class labels are class 0, class 1, and class 1.\r\n",
        "\r\n",
        "Try out the loss function on three toy predictions. The true class labels are $y=[1,1,0]$. The first two examples correspond to predictions that are \"correct\" in that they have higher raw scores for the correct class. The second example is \"more confident\" in the prediction, leading to a smaller loss. The last two examples are incorrect predictions with lower and higher confidence respectively."
      ]
    },
    {
      "cell_type": "code",
      "metadata": {
        "colab": {
          "base_uri": "https://localhost:8080/"
        },
        "id": "b72Rgz7yxsHZ",
        "outputId": "bc2b7bf1-1010-43c3-adf1-10d9d0715f8b"
      },
      "source": [
        "loss = nn.CrossEntropyLoss()\r\n",
        "\r\n",
        "input = torch.tensor([[-1., 1],[-1, 1],[1, -1]]) # raw scores correspond to the correct class\r\n",
        "# input = torch.tensor([[-3., 3],[-3, 3],[3, -3]]) # raw scores correspond to the correct class with higher confidence\r\n",
        "# input = torch.tensor([[1., -1],[1, -1],[-1, 1]]) # raw scores correspond to the incorrect class\r\n",
        "# input = torch.tensor([[3., -3],[3, -3],[-3, 3]]) # raw scores correspond to the incorrect class with incorrectly placed confidence\r\n",
        "\r\n",
        "target = torch.tensor([1, 1, 0])\r\n",
        "output = loss(input, target)\r\n",
        "print(output)"
      ],
      "execution_count": null,
      "outputs": [
        {
          "output_type": "stream",
          "text": [
            "tensor(0.1269)\n"
          ],
          "name": "stdout"
        }
      ]
    },
    {
      "cell_type": "markdown",
      "metadata": {
        "id": "hIH7Zh2GxvaG"
      },
      "source": [
        "## Learning rate schedulers\r\n",
        "\r\n",
        "Often we do not want to use a fixed learning rate throughout all training. PyTorch offers learning rate schedulers to change the learning rate over time. Common strategies include multiplying the lr by a constant every epoch (e.g. 0.9) and halving the learning rate when the training loss flattens out.\r\n",
        "\r\n",
        "See the [learning rate scheduler docs](https://pytorch.org/docs/stable/optim.html#how-to-adjust-learning-rate) for usage and examples"
      ]
    },
    {
      "cell_type": "markdown",
      "metadata": {
        "id": "BD45oqyTxx37"
      },
      "source": [
        "## Convolutions\r\n",
        "When working with images, we often want to use convolutions to extract features using convolutions. PyTorch implments this for us in the `torch.nn.Conv2d` module. It expects the input to have a specific dimension $(N, C_{in}, H_{in}, W_{in})$ where $N$ is batch size, $C_{in}$ is the number of channels the image has, and $H_{in}, W_{in}$ are the image height and width respectively.\r\n",
        "\r\n",
        "We can modify the convolution to have different properties with the parameters:\r\n",
        "- kernel_size\r\n",
        "- stride\r\n",
        "- padding\r\n",
        "\r\n",
        "They can change the output dimension so be careful.\r\n",
        "\r\n",
        "See the [`torch.nn.Conv2d` docs](https://pytorch.org/docs/stable/nn.html#torch.nn.Conv2d) for more information."
      ]
    },
    {
      "cell_type": "markdown",
      "metadata": {
        "id": "wFOpGZBox14J"
      },
      "source": [
        "To illustrate what the `Conv2d` module is doing, let's set the conv weights manually to a Gaussian blur kernel.\r\n",
        "\r\n",
        "We can see that it applies the kernel to the image."
      ]
    },
    {
      "cell_type": "code",
      "metadata": {
        "id": "5l7pUweNx5IR"
      },
      "source": [
        "# an entire mnist digit\r\n",
        "image = np.array([0., 0., 0., 0., 0.,0., 0., 0., 0., 0.,0., 0., 0., 0., 0.,0., 0., 0., 0., 0.,0., 0., 0., 0., 0.,0., 0., 0., 0., 0.,0., 0., 0., 0., 0.,0., 0., 0., 0., 0.,0., 0., 0., 0., 0.,0., 0., 0., 0., 0.,0., 0., 0., 0., 0.,0., 0., 0., 0., 0.,0., 0., 0., 0., 0.,0., 0., 0., 0., 0.,0., 0., 0., 0., 0.,0., 0., 0., 0., 0.,0., 0., 0., 0., 0.,0., 0., 0., 0., 0.,0., 0., 0., 0., 0.,0., 0., 0., 0., 0.,0., 0., 0., 0., 0.,0., 0., 0., 0., 0.,0., 0., 0., 0., 0.,0., 0., 0., 0., 0.,0., 0., 0., 0., 0.,0., 0., 0., 0., 0.,0., 0., 0., 0., 0.,0., 0., 0., 0., 0.,0., 0., 0., 0., 0.,0., 0., 0., 0., 0.,0., 0., 0., 0., 0.,0., 0., 0., 0., 0.,0., 0., 0., 0., 0.,0., 0., 0., 0., 0.,0., 0., 0., 0., 0.,0., 0., 0., 0., 0.,0., 0., 0., 0., 0.,0., 0., 0., 0., 0.,0., 0., 0., 0., 0.,0., 0., 0., 0., 0.,0., 0., 0., 0., 0.,0., 0., 0.3803922 , 0.37647063, 0.3019608 ,0.46274513, 0.2392157 , 0., 0., 0.,0., 0., 0., 0., 0.,0., 0., 0., 0., 0.,0., 0., 0.3529412 , 0.5411765 , 0.9215687 ,0.9215687 , 0.9215687 , 0.9215687 , 0.9215687 , 0.9215687 ,0.9843138 , 0.9843138 , 0.9725491 , 0.9960785 , 0.9607844 ,0.9215687 , 0.74509805, 0.08235294, 0., 0.,0., 0., 0., 0., 0.,0., 0., 0., 0., 0.54901963,0.9843138 , 0.9960785 , 0.9960785 , 0.9960785 , 0.9960785 ,0.9960785 , 0.9960785 , 0.9960785 , 0.9960785 , 0.9960785 ,0.9960785 , 0.9960785 , 0.9960785 , 0.9960785 , 0.9960785 ,0.7411765 , 0.09019608, 0., 0., 0.,0., 0., 0., 0., 0.,0., 0., 0.8862746 , 0.9960785 , 0.81568635,0.7803922 , 0.7803922 , 0.7803922 , 0.7803922 , 0.54509807,0.2392157 , 0.2392157 , 0.2392157 , 0.2392157 , 0.2392157 ,0.5019608 , 0.8705883 , 0.9960785 , 0.9960785 , 0.7411765 ,0.08235294, 0., 0., 0., 0.,0., 0., 0., 0., 0.,0.14901961, 0.32156864, 0.0509804 , 0., 0.,0., 0., 0., 0., 0.,0., 0., 0., 0., 0.13333334,0.8352942 , 0.9960785 , 0.9960785 , 0.45098042, 0.,0., 0., 0., 0., 0.,0., 0., 0., 0., 0.,0., 0., 0., 0., 0.,0., 0., 0., 0., 0.,0., 0., 0., 0.32941177, 0.9960785 ,0.9960785 , 0.9176471 , 0., 0., 0.,0., 0., 0., 0., 0.,0., 0., 0., 0., 0.,0., 0., 0., 0., 0.,0., 0., 0., 0., 0.,0., 0.32941177, 0.9960785 , 0.9960785 , 0.9176471 ,0., 0., 0., 0., 0.,0., 0., 0., 0., 0.,0., 0., 0., 0., 0.,0., 0., 0., 0., 0.,0., 0., 0., 0.4156863 , 0.6156863 ,0.9960785 , 0.9960785 , 0.95294124, 0.20000002, 0.,0., 0., 0., 0., 0.,0., 0., 0., 0., 0.,0., 0., 0., 0., 0.,0., 0.09803922, 0.45882356, 0.8941177 , 0.8941177 ,0.8941177 , 0.9921569 , 0.9960785 , 0.9960785 , 0.9960785 ,0.9960785 , 0.94117653, 0., 0., 0.,0., 0., 0., 0., 0.,0., 0., 0., 0., 0.,0., 0., 0.26666668, 0.4666667 , 0.86274517,0.9960785 , 0.9960785 , 0.9960785 , 0.9960785 , 0.9960785 ,0.9960785 , 0.9960785 , 0.9960785 , 0.9960785 , 0.5568628 ,0., 0., 0., 0., 0.,0., 0., 0., 0., 0.,0., 0., 0., 0.14509805, 0.73333335,0.9921569 , 0.9960785 , 0.9960785 , 0.9960785 , 0.8745099 ,0.8078432 , 0.8078432 , 0.29411766, 0.26666668, 0.8431373 ,0.9960785 , 0.9960785 , 0.45882356, 0., 0.,0., 0., 0., 0., 0.,0., 0., 0., 0., 0.,0.4431373 , 0.8588236 , 0.9960785 , 0.9490197 , 0.89019614,0.45098042, 0.34901962, 0.12156864, 0., 0.,0., 0., 0.7843138 , 0.9960785 , 0.9450981 ,0.16078432, 0., 0., 0., 0.,0., 0., 0., 0., 0.,0., 0., 0., 0.6627451 , 0.9960785 ,0.6901961 , 0.24313727, 0., 0., 0.,0., 0., 0., 0., 0.18823531,0.9058824 , 0.9960785 , 0.9176471 , 0., 0.,0., 0., 0., 0., 0.,0., 0., 0., 0., 0.,0., 0.07058824, 0.48627454, 0., 0.,0., 0., 0., 0., 0.,0., 0., 0.32941177, 0.9960785 , 0.9960785 ,0.6509804 , 0., 0., 0., 0.,0., 0., 0., 0., 0.,0., 0., 0., 0., 0.,0., 0., 0., 0., 0.,0., 0., 0., 0., 0.,0.54509807, 0.9960785 , 0.9333334 , 0.22352943, 0.,0., 0., 0., 0., 0.,0., 0., 0., 0., 0.,0., 0., 0., 0., 0.,0., 0., 0., 0., 0.,0., 0., 0.8235295 , 0.9803922 , 0.9960785 ,0.65882355, 0., 0., 0., 0.,0., 0., 0., 0., 0.,0., 0., 0., 0., 0.,0., 0., 0., 0., 0.,0., 0., 0., 0., 0.,0.9490197 , 0.9960785 , 0.93725497, 0.22352943, 0.,0., 0., 0., 0., 0.,0., 0., 0., 0., 0.,0., 0., 0., 0., 0.,0., 0., 0., 0., 0.,0., 0., 0.34901962, 0.9843138 , 0.9450981 ,0.3372549 , 0., 0., 0., 0.,0., 0., 0., 0., 0.,0., 0., 0., 0., 0.,0., 0., 0., 0., 0.,0., 0., 0., 0., 0.01960784,0.8078432 , 0.96470594, 0.6156863 , 0., 0.,0., 0., 0., 0., 0.,0., 0., 0., 0., 0.,0., 0., 0., 0., 0.,0., 0., 0., 0., 0.,0., 0., 0.01568628, 0.45882356, 0.27058825,0., 0., 0., 0., 0.,0., 0., 0., 0., 0.,0., 0., 0., 0., 0.,0., 0., 0., 0., 0.,0., 0., 0., 0., 0.,0., 0., 0., 0., 0.,0., 0., 0., 0., 0.,0., 0., 0., 0.], dtype=np.float32)\r\n",
        "image_torch = torch.from_numpy(image).view(1, 1, 28, 28)"
      ],
      "execution_count": null,
      "outputs": []
    },
    {
      "cell_type": "code",
      "metadata": {
        "colab": {
          "base_uri": "https://localhost:8080/",
          "height": 545
        },
        "id": "GC9gqPLlx8Wc",
        "outputId": "b640338c-2b60-466a-bf5c-7d9d254ed500"
      },
      "source": [
        "# a gaussian blur kernel\r\n",
        "gaussian_kernel = torch.tensor([[1., 2, 1],[2, 4, 2],[1, 2, 1]]) / 16.0\r\n",
        "\r\n",
        "conv = nn.Conv2d(1, 1, 3)\r\n",
        "# manually set the conv weight\r\n",
        "conv.weight.data[:] = gaussian_kernel\r\n",
        "\r\n",
        "convolved = conv(image_torch)\r\n",
        "\r\n",
        "plt.title('original image')\r\n",
        "plt.imshow(image_torch.view(28,28).detach().numpy())\r\n",
        "plt.show()\r\n",
        "\r\n",
        "plt.title('blurred image')\r\n",
        "plt.imshow(convolved.view(26,26).detach().numpy())\r\n",
        "plt.show()"
      ],
      "execution_count": null,
      "outputs": [
        {
          "output_type": "display_data",
          "data": {
            "image/png": "[encoded data removed]",
            "text/plain": [
              "<Figure size 432x288 with 1 Axes>"
            ]
          },
          "metadata": {
            "tags": [],
            "needs_background": "light"
          }
        },
        {
          "output_type": "display_data",
          "data": {
            "image/png": "[encoded data removed]",
            "text/plain": [
              "<Figure size 432x288 with 1 Axes>"
            ]
          },
          "metadata": {
            "tags": [],
            "needs_background": "light"
          }
        }
      ]
    },
    {
      "cell_type": "markdown",
      "metadata": {
        "id": "gotx0YHqyC0A"
      },
      "source": [
        "As we can see, the image is blurred as expected. \r\n",
        "\r\n",
        "In practice, we learn many kernels at a time. In this example, we take in an RGB image (3 channels) and output a 16 channel image. After an activation function, that could be used as input to another `Conv2d` module."
      ]
    },
    {
      "cell_type": "code",
      "metadata": {
        "colab": {
          "base_uri": "https://localhost:8080/"
        },
        "id": "WLyQBz3FyIIy",
        "outputId": "a7142d1e-38c4-40ce-80bc-15f34fba7a32"
      },
      "source": [
        "im_channels = 3 # if we are working with RGB images, there are 3 input channels, with black and white, 1\r\n",
        "out_channels = 16 # this is a hyperparameter we can tune\r\n",
        "kernel_size = 3 # this is another hyperparameter we can tune\r\n",
        "batch_size = 4\r\n",
        "image_width = 32\r\n",
        "image_height = 32\r\n",
        "\r\n",
        "im = torch.randn(batch_size, im_channels, image_width, image_height)\r\n",
        "\r\n",
        "m = nn.Conv2d(im_channels, out_channels, kernel_size)\r\n",
        "convolved = m(im) # it is a module so we can call it\r\n",
        "\r\n",
        "print('im shape', im.shape)\r\n",
        "print('convolved im shape', convolved.shape)"
      ],
      "execution_count": null,
      "outputs": [
        {
          "output_type": "stream",
          "text": [
            "im shape torch.Size([4, 3, 32, 32])\n",
            "convolved im shape torch.Size([4, 16, 30, 30])\n"
          ],
          "name": "stdout"
        }
      ]
    },
    {
      "cell_type": "markdown",
      "metadata": {
        "id": "X8VE1V2xyMBv"
      },
      "source": [
        "## Useful links:\r\n",
        "- [60 minute PyTorch Tutorial](https://pytorch.org/tutorials/beginner/deep_learning_60min_blitz.html)\r\n",
        "- [PyTorch Docs](https://pytorch.org/docs/stable/index.html)\r\n",
        "- [Lecture notes on Auto-Diff](https://courses.cs.washington.edu/courses/cse446/19wi/notes/auto-diff.pdf)"
      ]
    },
    {
      "cell_type": "markdown",
      "metadata": {
        "id": "6MEKbcHkyOk7"
      },
      "source": [
        "Custom Datasets, DataLoaders\r\n",
        "===================================================\r\n",
        "This is modified from pytorch official tutorial.\r\n",
        "**Author**: `Sasank Chilamkurthy <https://chsasank.github.io>`\r\n",
        "\r\n",
        "A lot of effort in solving any machine learning problem goes in to\r\n",
        "preparing the data. PyTorch provides many tools to make data loading\r\n",
        "easy and hopefully, to make your code more readable. In this tutorial,\r\n",
        "we will see how to load and preprocess/augment data from a non trivial\r\n",
        "dataset."
      ]
    },
    {
      "cell_type": "markdown",
      "metadata": {
        "id": "UerkIci1yWdE"
      },
      "source": [
        "Dataset class\r\n",
        "-------------\r\n",
        "\r\n",
        "``torch.utils.data.Dataset`` is an abstract class representing a\r\n",
        "dataset.\r\n",
        "Your custom dataset should inherit ``Dataset`` and override the following\r\n",
        "methods:\r\n",
        "\r\n",
        "-  ``__len__`` so that ``len(dataset)`` returns the size of the dataset.\r\n",
        "-  ``__getitem__`` to support the indexing such that ``dataset[i]`` can\r\n",
        "   be used to get $i$\\ th sample\r\n",
        "\r\n",
        "Let's create a dataset class for our face landmarks dataset. We will\r\n",
        "read the csv in ``__init__`` but leave the reading of images to\r\n",
        "``__getitem__``. This is memory efficient because all the images are not\r\n",
        "stored in the memory at once but read as required.\r\n",
        "\r\n",
        "Sample of our dataset will be a dict\r\n",
        "``{'image': image, 'landmarks': landmarks}``. Our dataset will take an\r\n",
        "optional argument ``transform`` so that any required processing can be\r\n",
        "applied on the sample. We will see the usefulness of ``transform`` in the\r\n",
        "next section."
      ]
    },
    {
      "cell_type": "code",
      "metadata": {
        "id": "JIzN43UgyY85"
      },
      "source": [
        "from torch.utils.data import Dataset, DataLoader\r\n",
        "\r\n",
        "class FakeDataset(Dataset):\r\n",
        "\r\n",
        "    def __init__(self, x, y):\r\n",
        "        self.x = x\r\n",
        "        self.y = y\r\n",
        "\r\n",
        "    def __len__(self):\r\n",
        "        return len(self.x)\r\n",
        "\r\n",
        "    def __getitem__(self, idx):\r\n",
        "        return self.x[idx], self.y[idx]"
      ],
      "execution_count": null,
      "outputs": []
    },
    {
      "cell_type": "markdown",
      "metadata": {
        "id": "uw5GdeP3ykMQ"
      },
      "source": [
        "However, we are losing a lot of features by using a simple ``for`` loop to\r\n",
        "iterate over the data. In particular, we are missing out on:\r\n",
        "\r\n",
        "-  Batching the data\r\n",
        "-  Shuffling the data\r\n",
        "-  Load the data in parallel using ``multiprocessing`` workers.\r\n",
        "\r\n",
        "``torch.utils.data.DataLoader`` is an iterator which provides all these\r\n",
        "features. Parameters used below should be clear. One parameter of\r\n",
        "interest is ``collate_fn``. You can specify how exactly the samples need\r\n",
        "to be batched using ``collate_fn``. However, default collate should work\r\n",
        "fine for most use cases."
      ]
    },
    {
      "cell_type": "code",
      "metadata": {
        "colab": {
          "base_uri": "https://localhost:8080/"
        },
        "id": "0aPzdObCypSB",
        "outputId": "9b94998c-e2a4-406e-c2a5-4be19dad1ad4"
      },
      "source": [
        "x = np.random.rand(100, 10)\r\n",
        "y = np.random.rand(100)\r\n",
        "\r\n",
        "dataset = FakeDataset(x, y)\r\n",
        "dataloader = DataLoader(dataset, batch_size=4,\r\n",
        "                        shuffle=True, num_workers=4)\r\n",
        "\r\n",
        "for i_batch, sample_batched in enumerate(dataloader):\r\n",
        "    print(i_batch, sample_batched)"
      ],
      "execution_count": null,
      "outputs": [
        {
          "output_type": "stream",
          "text": [
            "0 [tensor([[0.7299, 0.6399, 0.5307, 0.3669, 0.8802, 0.2936, 0.1531, 0.4092, 0.2909,\n",
            "         0.9733],\n",
            "        [0.1864, 0.8668, 0.2255, 0.4177, 0.7093, 0.8264, 0.8240, 0.0656, 0.1143,\n",
            "         0.6391],\n",
            "        [0.4753, 0.4926, 0.4595, 0.9881, 0.9667, 0.9884, 0.6675, 0.1673, 0.0083,\n",
            "         0.0377],\n",
            "        [0.3275, 0.9519, 0.4797, 0.6329, 0.3010, 0.4499, 0.0319, 0.3484, 0.7486,\n",
            "         0.4976]], dtype=torch.float64), tensor([0.3033, 0.1933, 0.7881, 0.0286], dtype=torch.float64)]\n",
            "1 [tensor([[0.4098, 0.0563, 0.5053, 0.9396, 0.6260, 0.6925, 0.1186, 0.4357, 0.6965,\n",
            "         0.7626],\n",
            "        [0.9878, 0.5644, 0.9747, 0.1329, 0.6884, 0.2989, 0.4496, 0.5509, 0.0066,\n",
            "         0.4876],\n",
            "        [0.1209, 0.0944, 0.3105, 0.7302, 0.1299, 0.4542, 0.3695, 0.1626, 0.4883,\n",
            "         0.0155],\n",
            "        [0.0412, 0.9999, 0.6860, 0.1620, 0.1127, 0.0526, 0.7301, 0.3691, 0.5892,\n",
            "         0.8359]], dtype=torch.float64), tensor([0.9089, 0.4448, 0.3218, 0.3420], dtype=torch.float64)]\n",
            "2 [tensor([[0.4618, 0.4775, 0.4352, 0.9928, 0.2119, 0.0740, 0.7224, 0.8868, 0.5236,\n",
            "         0.0055],\n",
            "        [0.2523, 0.5704, 0.9769, 0.7493, 0.6006, 0.8080, 0.8184, 0.2344, 0.6277,\n",
            "         0.7121],\n",
            "        [0.1929, 0.3506, 0.0921, 0.3103, 0.8524, 0.3823, 0.2444, 0.6609, 0.4500,\n",
            "         0.2035],\n",
            "        [0.1100, 0.9307, 0.8565, 0.9234, 0.6466, 0.5139, 0.1449, 0.2484, 0.2549,\n",
            "         0.0574]], dtype=torch.float64), tensor([0.5149, 0.2400, 0.1026, 0.9179], dtype=torch.float64)]\n",
            "3 [tensor([[0.3403, 0.8986, 0.5617, 0.5326, 0.4641, 0.9167, 0.0352, 0.2361, 0.3085,\n",
            "         0.1437],\n",
            "        [0.3076, 0.4840, 0.8262, 0.3136, 0.8811, 0.7817, 0.4943, 0.6647, 0.7805,\n",
            "         0.0711],\n",
            "        [0.6524, 0.3432, 0.4155, 0.8317, 0.3899, 0.0163, 0.3177, 0.7584, 0.8076,\n",
            "         0.3475],\n",
            "        [0.5914, 0.0166, 0.4447, 0.2936, 0.9296, 0.2357, 0.6398, 0.4538, 0.9728,\n",
            "         0.1115]], dtype=torch.float64), tensor([0.1851, 0.1167, 0.8038, 0.9089], dtype=torch.float64)]\n",
            "4 [tensor([[0.7548, 0.6793, 0.0386, 0.4215, 0.0259, 0.2891, 0.9065, 0.5613, 0.2778,\n",
            "         0.1135],\n",
            "        [0.1500, 0.9295, 0.1664, 0.6619, 0.8176, 0.0323, 0.2159, 0.4852, 0.3602,\n",
            "         0.8844],\n",
            "        [0.0268, 0.8455, 0.2843, 0.8445, 0.5389, 0.1842, 0.5174, 0.8963, 0.2922,\n",
            "         0.1556],\n",
            "        [0.0125, 0.4836, 0.6855, 0.1898, 0.8947, 0.6190, 0.9878, 0.4671, 0.1395,\n",
            "         0.4836]], dtype=torch.float64), tensor([0.5848, 0.7884, 0.2029, 0.7850], dtype=torch.float64)]\n",
            "5 [tensor([[0.7784, 0.7866, 0.7890, 0.5986, 0.7744, 0.1240, 0.2171, 0.0932, 0.7143,\n",
            "         0.0164],\n",
            "        [0.8327, 0.2055, 0.8221, 0.2619, 0.9454, 0.2427, 0.3983, 0.4542, 0.3291,\n",
            "         0.8491],\n",
            "        [0.4153, 0.4503, 0.4965, 0.1709, 0.3076, 0.2496, 0.0985, 0.4603, 0.1050,\n",
            "         0.2533],\n",
            "        [0.9150, 0.2385, 0.4682, 0.4484, 0.0434, 0.6068, 0.5771, 0.9923, 0.2797,\n",
            "         0.5785]], dtype=torch.float64), tensor([0.3460, 0.2201, 0.9313, 0.1896], dtype=torch.float64)]\n",
            "6 [tensor([[0.3300, 0.4613, 0.0464, 0.1918, 0.6575, 0.6818, 0.4975, 0.7177, 0.1854,\n",
            "         0.1349],\n",
            "        [0.6884, 0.7677, 0.4220, 0.6848, 0.4153, 0.6101, 0.4259, 0.9906, 0.7406,\n",
            "         0.9721],\n",
            "        [0.4085, 0.4291, 0.0595, 0.4663, 0.4566, 0.4094, 0.3923, 0.9878, 0.7551,\n",
            "         0.5323],\n",
            "        [0.2809, 0.2436, 0.7457, 0.2624, 0.4324, 0.2166, 0.5708, 0.3626, 0.3313,\n",
            "         0.1276]], dtype=torch.float64), tensor([0.9038, 0.9983, 0.1245, 0.6274], dtype=torch.float64)]\n",
            "7 [tensor([[0.3357, 0.4213, 0.2279, 0.7748, 0.0124, 0.5663, 0.4240, 0.2727, 0.0986,\n",
            "         0.3977],\n",
            "        [0.8361, 0.9204, 0.4035, 0.8303, 0.6870, 0.8541, 0.7166, 0.9591, 0.3616,\n",
            "         0.4006],\n",
            "        [0.2161, 0.7080, 0.0823, 0.8506, 0.6371, 0.7456, 0.4735, 0.8046, 0.5081,\n",
            "         0.5017],\n",
            "        [0.1219, 0.8618, 0.5016, 0.4410, 0.2339, 0.4093, 0.9565, 0.0725, 0.7881,\n",
            "         0.1762]], dtype=torch.float64), tensor([0.0949, 0.7814, 0.2192, 0.0383], dtype=torch.float64)]\n",
            "8 [tensor([[0.1830, 0.6266, 0.6450, 0.6935, 0.2313, 0.4099, 0.8946, 0.7944, 0.7788,\n",
            "         0.2935],\n",
            "        [0.8152, 0.9537, 0.8881, 0.5767, 0.3812, 0.8709, 0.1662, 0.2689, 0.9501,\n",
            "         0.9570],\n",
            "        [0.1615, 0.8459, 0.6392, 0.8360, 0.3150, 0.9412, 0.7139, 0.8753, 0.6244,\n",
            "         0.8858],\n",
            "        [0.0914, 0.9125, 0.7608, 0.6511, 0.8120, 0.1939, 0.3496, 0.1728, 0.3441,\n",
            "         0.5239]], dtype=torch.float64), tensor([0.9227, 0.1824, 0.7912, 0.9173], dtype=torch.float64)]\n",
            "9 [tensor([[0.4010, 0.4071, 0.7084, 0.6094, 0.4190, 0.0880, 0.7047, 0.8450, 0.1906,\n",
            "         0.7871],\n",
            "        [0.4894, 0.2787, 0.7328, 0.8260, 0.0072, 0.4422, 0.9973, 0.1693, 0.0781,\n",
            "         0.0534],\n",
            "        [0.1877, 0.8325, 0.7022, 0.7525, 0.7294, 0.7312, 0.4374, 0.6332, 0.3066,\n",
            "         0.0164],\n",
            "        [0.3033, 0.2126, 0.3115, 0.6762, 0.8204, 0.3404, 0.0025, 0.2192, 0.1457,\n",
            "         0.1140]], dtype=torch.float64), tensor([0.6439, 0.9870, 0.9422, 0.5600], dtype=torch.float64)]\n",
            "10 [tensor([[0.5755, 0.7310, 0.3480, 0.8357, 0.8273, 0.2108, 0.5344, 0.8285, 0.2193,\n",
            "         0.0525],\n",
            "        [0.1830, 0.2685, 0.3785, 0.1926, 0.1750, 0.6524, 0.0470, 0.5768, 0.9558,\n",
            "         0.3030],\n",
            "        [0.1356, 0.9622, 0.2630, 0.1778, 0.8344, 0.8143, 0.2168, 0.7930, 0.4488,\n",
            "         0.3728],\n",
            "        [0.8240, 0.6985, 0.2775, 0.4298, 0.7508, 0.1379, 0.8566, 0.0306, 0.8726,\n",
            "         0.8238]], dtype=torch.float64), tensor([0.3101, 0.8383, 0.3682, 0.5828], dtype=torch.float64)]\n",
            "11 [tensor([[0.8626, 0.6300, 0.1504, 0.8357, 0.9513, 0.0875, 0.2037, 0.5602, 0.2392,\n",
            "         0.5785],\n",
            "        [0.8701, 0.2061, 0.9199, 0.7679, 0.6270, 0.5381, 0.3273, 0.0358, 0.4629,\n",
            "         0.3571],\n",
            "        [0.7893, 0.7050, 0.8763, 0.1537, 0.4035, 0.9407, 0.0621, 0.8590, 0.3954,\n",
            "         0.5220],\n",
            "        [0.5532, 0.8223, 0.0802, 0.9806, 0.9618, 0.2711, 0.4122, 0.8605, 0.3360,\n",
            "         0.4145]], dtype=torch.float64), tensor([0.9843, 0.1120, 0.3812, 0.5941], dtype=torch.float64)]\n",
            "12 [tensor([[0.0055, 0.0339, 0.2460, 0.7344, 0.1402, 0.0574, 0.8856, 0.7105, 0.4294,\n",
            "         0.0999],\n",
            "        [0.3366, 0.3766, 0.7566, 0.7523, 0.4238, 0.9513, 0.0314, 0.0214, 0.4260,\n",
            "         0.2304],\n",
            "        [0.3007, 0.5288, 0.2442, 0.3173, 0.0848, 0.3862, 0.9510, 0.7286, 0.6011,\n",
            "         0.0519],\n",
            "        [0.7655, 0.2148, 0.5616, 0.6376, 0.2002, 0.0533, 0.0030, 0.8495, 0.8213,\n",
            "         0.4480]], dtype=torch.float64), tensor([0.8429, 0.6126, 0.0197, 0.1861], dtype=torch.float64)]\n",
            "13 [tensor([[0.3706, 0.2455, 0.1819, 0.3769, 0.2376, 0.7937, 0.8245, 0.1926, 0.0789,\n",
            "         0.7087],\n",
            "        [0.5254, 0.5427, 0.3628, 0.6960, 0.2886, 0.9353, 0.9689, 0.6012, 0.1582,\n",
            "         0.4367],\n",
            "        [0.4259, 0.1018, 0.0954, 0.1481, 0.3224, 0.1089, 0.6246, 0.3205, 0.0639,\n",
            "         0.2193],\n",
            "        [0.4102, 0.1455, 0.8229, 0.7937, 0.6920, 0.6642, 0.1776, 0.6291, 0.0601,\n",
            "         0.5506]], dtype=torch.float64), tensor([0.7332, 0.1656, 0.1441, 0.6731], dtype=torch.float64)]\n",
            "14 [tensor([[0.1006, 0.5021, 0.4176, 0.9280, 0.0712, 0.1559, 0.1696, 0.1280, 0.5047,\n",
            "         0.8401],\n",
            "        [0.7273, 0.2927, 0.6264, 0.0172, 0.8470, 0.8845, 0.8372, 0.6170, 0.1041,\n",
            "         0.6958],\n",
            "        [0.8274, 0.3138, 0.3992, 0.9346, 0.5357, 0.0272, 0.2833, 0.6078, 0.8637,\n",
            "         0.3413],\n",
            "        [0.5618, 0.1706, 0.4135, 0.7749, 0.8082, 0.0753, 0.2220, 0.5096, 0.3851,\n",
            "         0.8348]], dtype=torch.float64), tensor([0.2553, 0.3612, 0.5246, 0.4685], dtype=torch.float64)]\n",
            "15 [tensor([[0.8995, 0.8026, 0.0095, 0.5831, 0.1146, 0.4983, 0.6000, 0.9879, 0.6547,\n",
            "         0.9260],\n",
            "        [0.8884, 0.4877, 0.6329, 0.6263, 0.6320, 0.7045, 0.3195, 0.3841, 0.9593,\n",
            "         0.2860],\n",
            "        [0.4821, 0.9311, 0.9325, 0.5611, 0.9733, 0.9202, 0.8805, 0.5094, 0.3387,\n",
            "         0.2823],\n",
            "        [0.3824, 0.8406, 0.7120, 0.1866, 0.5284, 0.3931, 0.3991, 0.5207, 0.9336,\n",
            "         0.6751]], dtype=torch.float64), tensor([0.9865, 0.9467, 0.5159, 0.5503], dtype=torch.float64)]\n",
            "16 [tensor([[0.8038, 0.5939, 0.2823, 0.4960, 0.9016, 0.1506, 0.3035, 0.2967, 0.4604,\n",
            "         0.4290],\n",
            "        [0.8275, 0.0831, 0.8764, 0.3083, 0.9285, 0.0967, 0.8587, 0.1045, 0.2944,\n",
            "         0.0276],\n",
            "        [0.9312, 0.4660, 0.1075, 0.3356, 0.0728, 0.6576, 0.9510, 0.4153, 0.4846,\n",
            "         0.4244],\n",
            "        [0.3649, 0.4502, 0.4806, 0.8996, 0.4097, 0.6211, 0.2890, 0.8240, 0.4099,\n",
            "         0.7209]], dtype=torch.float64), tensor([0.4047, 0.7050, 0.6437, 0.2625], dtype=torch.float64)]\n",
            "17 [tensor([[0.9815, 0.7615, 0.0315, 0.2393, 0.9707, 0.1807, 0.6645, 0.9342, 0.0663,\n",
            "         0.4530],\n",
            "        [0.6277, 0.0886, 0.6954, 0.5705, 0.0357, 0.9796, 0.8187, 0.3179, 0.0654,\n",
            "         0.0154],\n",
            "        [0.9092, 0.3946, 0.0589, 0.6904, 0.1723, 0.3965, 0.8337, 0.6334, 0.6733,\n",
            "         0.3250],\n",
            "        [0.1842, 0.8327, 0.5381, 0.5614, 0.1766, 0.3946, 0.9296, 0.8930, 0.1785,\n",
            "         0.7056]], dtype=torch.float64), tensor([0.1126, 0.9432, 0.6074, 0.3301], dtype=torch.float64)]\n",
            "18 [tensor([[0.8933, 0.8932, 0.5026, 0.8808, 0.2539, 0.8462, 0.3022, 0.5633, 0.8363,\n",
            "         0.3315],\n",
            "        [0.5716, 0.8413, 0.7261, 0.8521, 0.8210, 0.6213, 0.9814, 0.6401, 0.9176,\n",
            "         0.9446],\n",
            "        [0.0916, 0.5313, 0.2077, 0.7243, 0.7656, 0.5569, 0.2398, 0.4772, 0.5166,\n",
            "         0.6155],\n",
            "        [0.8796, 0.3532, 0.1296, 0.5720, 0.2520, 0.5586, 0.2290, 0.6347, 0.4743,\n",
            "         0.3507]], dtype=torch.float64), tensor([0.5176, 0.9442, 0.7274, 0.9826], dtype=torch.float64)]\n",
            "19 [tensor([[0.8288, 0.5044, 0.7484, 0.5466, 0.5561, 0.9304, 0.0946, 0.0411, 0.9721,\n",
            "         0.6885],\n",
            "        [0.6711, 0.1294, 0.9840, 0.7129, 0.4768, 0.1295, 0.1699, 0.8166, 0.1888,\n",
            "         0.6158],\n",
            "        [0.1008, 0.3056, 0.8560, 0.9626, 0.8457, 0.4799, 0.1085, 0.8674, 0.9302,\n",
            "         0.3065],\n",
            "        [0.7929, 0.8750, 0.2901, 0.2755, 0.9480, 0.6514, 0.2391, 0.1752, 0.5290,\n",
            "         0.1912]], dtype=torch.float64), tensor([0.9138, 0.9417, 0.8031, 0.2563], dtype=torch.float64)]\n",
            "20 [tensor([[0.7927, 0.9481, 0.7394, 0.6647, 0.4164, 0.9068, 0.4608, 0.9244, 0.2833,\n",
            "         0.8592],\n",
            "        [0.9911, 0.6582, 0.1700, 0.5174, 0.8015, 0.0714, 0.8662, 0.0224, 0.8664,\n",
            "         0.3882],\n",
            "        [0.4138, 0.8597, 0.2734, 0.5270, 0.2356, 0.8953, 0.6913, 0.4750, 0.6981,\n",
            "         0.8005],\n",
            "        [0.2560, 0.2524, 0.6295, 0.1996, 0.7914, 0.2180, 0.1181, 0.6182, 0.4729,\n",
            "         0.3008]], dtype=torch.float64), tensor([0.7308, 0.7503, 0.9879, 0.9000], dtype=torch.float64)]\n",
            "21 [tensor([[0.4290, 0.5590, 0.4631, 0.7568, 0.7571, 0.5170, 0.0422, 0.1990, 0.6521,\n",
            "         0.6765],\n",
            "        [0.6040, 0.0091, 0.9736, 0.9721, 0.9516, 0.5171, 0.6455, 0.6825, 0.1415,\n",
            "         0.8912],\n",
            "        [0.2166, 0.3644, 0.8316, 0.7961, 0.5470, 0.7051, 0.2640, 0.4010, 0.5947,\n",
            "         0.5322],\n",
            "        [0.4877, 0.0156, 0.2263, 0.4509, 0.2057, 0.4076, 0.0755, 0.4848, 0.9168,\n",
            "         0.8827]], dtype=torch.float64), tensor([0.3407, 0.1466, 0.6430, 0.4058], dtype=torch.float64)]\n",
            "22 [tensor([[0.1951, 0.0182, 0.2687, 0.0124, 0.9533, 0.2365, 0.7655, 0.6966, 0.0441,\n",
            "         0.4104],\n",
            "        [0.0931, 0.5769, 0.6763, 0.6201, 0.5092, 0.7188, 0.1523, 0.5806, 0.1696,\n",
            "         0.5970],\n",
            "        [0.7726, 0.4031, 0.7194, 0.6481, 0.8232, 0.2398, 0.7997, 0.2111, 0.2108,\n",
            "         0.9862],\n",
            "        [0.1934, 0.8813, 0.0853, 0.1268, 0.6577, 0.6394, 0.3029, 0.1309, 0.3206,\n",
            "         0.3208]], dtype=torch.float64), tensor([0.9706, 0.4588, 0.9123, 0.2477], dtype=torch.float64)]\n",
            "23 [tensor([[0.7834, 0.6403, 0.6852, 0.2207, 0.4793, 0.7839, 0.5015, 0.8851, 0.1206,\n",
            "         0.3842],\n",
            "        [0.7083, 0.0662, 0.3609, 0.5579, 0.3714, 0.8201, 0.2972, 0.9235, 0.3503,\n",
            "         0.4142],\n",
            "        [0.0066, 0.1176, 0.4757, 0.5757, 0.3711, 0.4035, 0.6166, 0.2843, 0.1738,\n",
            "         0.0358],\n",
            "        [0.8139, 0.1490, 0.9299, 0.6129, 0.5462, 0.3276, 0.1525, 0.8341, 0.3352,\n",
            "         0.8669]], dtype=torch.float64), tensor([0.2825, 0.9724, 0.5229, 0.4703], dtype=torch.float64)]\n",
            "24 [tensor([[0.0875, 0.2225, 0.3801, 0.2263, 0.3371, 0.8353, 0.7697, 0.4595, 0.2872,\n",
            "         0.0834],\n",
            "        [0.0981, 0.7663, 0.0282, 0.6467, 0.2491, 0.2940, 0.9218, 0.3358, 0.8001,\n",
            "         0.5784],\n",
            "        [0.7647, 0.6885, 0.4693, 0.6570, 0.8722, 0.6438, 0.0415, 0.5401, 0.4872,\n",
            "         0.0090],\n",
            "        [0.9863, 0.4248, 0.9973, 0.0325, 0.2116, 0.9035, 0.5127, 0.6365, 0.0148,\n",
            "         0.8470]], dtype=torch.float64), tensor([0.7609, 0.4941, 0.7930, 0.6811], dtype=torch.float64)]\n"
          ],
          "name": "stdout"
        }
      ]
    },
    {
      "cell_type": "markdown",
      "metadata": {
        "id": "HmvpgMHgytF1"
      },
      "source": [
        "Mixed Presision Training\r\n",
        "===================================================\r\n",
        "**Author**: `Chi-Liang Liu <https://liangtaiwan.github.io>`\r\n",
        "**Ref**: https://github.com/NVIDIA/apex\r\n",
        "Using mixed precision to train your networks can be:\r\n",
        "- 2-4x faster\r\n",
        "- memory-efficient\r\n",
        "in only 3 lines of Python."
      ]
    },
    {
      "cell_type": "markdown",
      "metadata": {
        "id": "AQgROOnyywko"
      },
      "source": [
        "# Apex \r\n",
        "\r\n",
        "NVIDIA-maintained utilities to streamline mixed precision and distributed training in Pytorch. Some of the code here will be included in upstream Pytorch eventually. The intention of Apex is to make up-to-date utilities available to users as quickly as possible."
      ]
    },
    {
      "cell_type": "markdown",
      "metadata": {
        "id": "0s_4rp7-yy98"
      },
      "source": [
        "## apex.amp\r\n",
        "\r\n",
        "Amp allows users to easily experiment with different pure and mixed precision modes.\r\n",
        "Commonly-used default modes are chosen by\r\n",
        "selecting an \"optimization level\" or ``opt_level``; each ``opt_level`` establishes a set of\r\n",
        "properties that govern Amp's implementation of pure or mixed precision training.\r\n",
        "Finer-grained control of how a given ``opt_level`` behaves can be achieved by passing values for\r\n",
        "particular properties directly to ``amp.initialize``.  These manually specified values\r\n",
        "override the defaults established by the ``opt_level``."
      ]
    },
    {
      "cell_type": "code",
      "metadata": {
        "id": "WnHbXzihy4dY"
      },
      "source": [
        "from apex import amp\r\n",
        "\r\n",
        "# Declare model and optimizer as usual, with default (FP32) precision\r\n",
        "model = torch.nn.Linear(10, 100).cuda()\r\n",
        "optimizer = torch.optim.SGD(model.parameters(), lr=1e-3)\r\n",
        "\r\n",
        "# Allow Amp to perform casts as required by the opt_level\r\n",
        "model, optimizer = amp.initialize(model, optimizer, opt_level=\"O1\")\r\n",
        "...\r\n",
        "# loss.backward() becomes:\r\n",
        "with amp.scale_loss(loss, optimizer) as scaled_loss:\r\n",
        "    scaled_loss.backward()\r\n",
        "..."
      ],
      "execution_count": null,
      "outputs": []
    }
  ]
}